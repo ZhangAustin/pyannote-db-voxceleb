{
 "cells": [
  {
   "cell_type": "code",
   "execution_count": 131,
   "metadata": {
    "collapsed": true
   },
   "outputs": [],
   "source": [
    "from pandas import read_table, DataFrame, concat\n",
    "from glob import glob\n",
    "from tqdm import tqdm"
   ]
  },
  {
   "cell_type": "code",
   "execution_count": 132,
   "metadata": {
    "collapsed": true
   },
   "outputs": [],
   "source": [
    "voxceleb_dir = 'data/voxceleb1'"
   ]
  },
  {
   "cell_type": "markdown",
   "metadata": {},
   "source": [
    "## Parse verification protocol "
   ]
  },
  {
   "cell_type": "code",
   "execution_count": 133,
   "metadata": {},
   "outputs": [
    {
     "name": "stdout",
     "output_type": "stream",
     "text": [
      "POI: \t\t\tA.J._Buckley \r\n",
      "Youtube ID: \t1zcIwhmdeo4 \r\n",
      "Video length: \t264.3 sec \r\n",
      "Set (V): \t\tdev \r\n",
      " \r\n",
      "A.J._Buckley/1zcIwhmdeo4_0000001 14.7 22.8 \r\n",
      "A.J._Buckley/1zcIwhmdeo4_0000002 90.4 99.0 \r\n",
      "A.J._Buckley/1zcIwhmdeo4_0000003 102.4 108.0 \r\n"
     ]
    }
   ],
   "source": [
    "!cat data/voxceleb1/voxceleb1_txt/A.J._Buckley/1zcIwhmdeo4.txt"
   ]
  },
  {
   "cell_type": "code",
   "execution_count": 134,
   "metadata": {
    "collapsed": true
   },
   "outputs": [],
   "source": [
    "def parse_txt(txt):\n",
    "    lines = [line.strip() for line in open(txt, 'r').readlines()]\n",
    "    speaker = lines[0].split('\\t')[-1]\n",
    "    uri = lines[1].split('\\t')[-1]\n",
    "    subset = lines[3].split('\\t')[-1]\n",
    "    if subset == 'test':\n",
    "        subset = 'tst'\n",
    "    for line in lines[5:]:\n",
    "        segment, start, end = line.split()\n",
    "        yield {'speaker': speaker, \n",
    "               'uri': speaker + '/' + uri, \n",
    "               'start': float(start), \n",
    "               'end': float(end), \n",
    "               'segment': segment, \n",
    "               'verification': subset}"
   ]
  },
  {
   "cell_type": "code",
   "execution_count": 135,
   "metadata": {},
   "outputs": [
    {
     "name": "stderr",
     "output_type": "stream",
     "text": [
      "100%|██████████| 22496/22496 [00:01<00:00, 13415.71it/s]\n"
     ]
    }
   ],
   "source": [
    "glob_exp = '{voxceleb_dir}/voxceleb1_txt/*/*.txt'.format(voxceleb_dir=voxceleb_dir)\n",
    "segments = []\n",
    "for path_txt in tqdm(glob(glob_exp)):\n",
    "    segments.extend(list(parse_txt(path_txt)))\n",
    "verification_split = DataFrame(segments)\n",
    "verification_split.set_index('segment', inplace=True)"
   ]
  },
  {
   "cell_type": "markdown",
   "metadata": {},
   "source": [
    "## Parse identification protocol"
   ]
  },
  {
   "cell_type": "code",
   "execution_count": 136,
   "metadata": {
    "collapsed": true
   },
   "outputs": [],
   "source": [
    "map_set = lambda x: {'1': 'trn', '2': 'dev', '3': 'tst'}[x]\n",
    "identification_split = read_table(\n",
    "    'data/Identification_split.txt', delim_whitespace=True,\n",
    "    header=None, names=['identification', 'segment'], index_col=['segment'],\n",
    "    converters={'identification': map_set, 'segment': lambda x: x[:-4]})"
   ]
  },
  {
   "cell_type": "code",
   "execution_count": 137,
   "metadata": {
    "collapsed": true
   },
   "outputs": [],
   "source": [
    "data = concat([identification_split, verification_split], axis=1)"
   ]
  },
  {
   "cell_type": "markdown",
   "metadata": {},
   "source": [
    "## Remove duplicates"
   ]
  },
  {
   "cell_type": "code",
   "execution_count": 138,
   "metadata": {
    "collapsed": true
   },
   "outputs": [],
   "source": [
    "duplicates = list(read_table('data/duplicates.txt', header=None, names=['uri']).uri)"
   ]
  },
  {
   "cell_type": "code",
   "execution_count": 139,
   "metadata": {
    "collapsed": true
   },
   "outputs": [],
   "source": [
    "columns = ['uri', 'start', 'end', 'speaker', 'verification', 'identification']\n",
    "voxceleb1 = data[data.apply(lambda r: r.uri not in duplicates, axis=1)][columns]"
   ]
  },
  {
   "cell_type": "markdown",
   "metadata": {},
   "source": [
    "## Dump to \"voxceleb1.csv\""
   ]
  },
  {
   "cell_type": "code",
   "execution_count": 140,
   "metadata": {
    "collapsed": true
   },
   "outputs": [],
   "source": [
    "with open('../VoxCeleb/data/voxceleb1.csv', 'w') as fp:\n",
    "    voxceleb1.to_csv(fp, index_label='segment')"
   ]
  },
  {
   "cell_type": "code",
   "execution_count": 141,
   "metadata": {},
   "outputs": [
    {
     "name": "stdout",
     "output_type": "stream",
     "text": [
      "segment,uri,start,end,speaker,verification,identification\r\n",
      "A.J._Buckley/1zcIwhmdeo4_0000001,A.J._Buckley/1zcIwhmdeo4,14.7,22.8,A.J._Buckley,dev,trn\r\n",
      "A.J._Buckley/1zcIwhmdeo4_0000002,A.J._Buckley/1zcIwhmdeo4,90.4,99.0,A.J._Buckley,dev,trn\r\n",
      "A.J._Buckley/1zcIwhmdeo4_0000003,A.J._Buckley/1zcIwhmdeo4,102.4,108.0,A.J._Buckley,dev,trn\r\n",
      "A.J._Buckley/7gWzIy6yIIk_0000001,A.J._Buckley/7gWzIy6yIIk,206.8,215.4,A.J._Buckley,dev,trn\r\n",
      "A.J._Buckley/7gWzIy6yIIk_0000002,A.J._Buckley/7gWzIy6yIIk,269.1,275.0,A.J._Buckley,dev,trn\r\n",
      "A.J._Buckley/7gWzIy6yIIk_0000003,A.J._Buckley/7gWzIy6yIIk,283.2,289.8,A.J._Buckley,dev,trn\r\n",
      "A.J._Buckley/7gWzIy6yIIk_0000004,A.J._Buckley/7gWzIy6yIIk,297.3,305.4,A.J._Buckley,dev,trn\r\n",
      "A.J._Buckley/7w0IBEWc9Qw_0000001,A.J._Buckley/7w0IBEWc9Qw,8.0,36.0,A.J._Buckley,dev,dev\r\n",
      "A.J._Buckley/7w0IBEWc9Qw_0000002,A.J._Buckley/7w0IBEWc9Qw,39.7,45.7,A.J._Buckley,dev,dev\r\n"
     ]
    }
   ],
   "source": [
    "!head ../VoxCeleb/data/voxceleb1.csv"
   ]
  },
  {
   "cell_type": "markdown",
   "metadata": {},
   "source": [
    "## Parse verification trials"
   ]
  },
  {
   "cell_type": "code",
   "execution_count": 142,
   "metadata": {},
   "outputs": [
    {
     "name": "stdout",
     "output_type": "stream",
     "text": [
      "1 Eartha_Kitt/x6uYqmx31kE_0000001.wav Eartha_Kitt/8jEAjG6SegY_0000008.wav\r\n",
      "0 Eartha_Kitt/x6uYqmx31kE_0000001.wav Ernest_Borgnine/ize_eiCFEg0_0000003.wav\r\n",
      "1 Eartha_Kitt/x6uYqmx31kE_0000001.wav Eartha_Kitt/GWXujl-xAVM_0000017.wav\r\n",
      "0 Eartha_Kitt/x6uYqmx31kE_0000001.wav Eddie_Izzard/0OCW1HUxZyg_0000001.wav\r\n",
      "1 Eartha_Kitt/x6uYqmx31kE_0000001.wav Eartha_Kitt/8jEAjG6SegY_0000022.wav\r\n",
      "0 Eartha_Kitt/x6uYqmx31kE_0000001.wav Eli_Wallach/Uzxv7Axh3Z8_0000001.wav\r\n",
      "1 Eartha_Kitt/x6uYqmx31kE_0000001.wav Eartha_Kitt/GWXujl-xAVM_0000033.wav\r\n",
      "0 Eartha_Kitt/x6uYqmx31kE_0000001.wav Eli_Wallach/7yx9A0yzLYk_0000029.wav\r\n",
      "1 Eartha_Kitt/x6uYqmx31kE_0000002.wav Eartha_Kitt/5r0dWxy17C8_0000026.wav\r\n",
      "0 Eartha_Kitt/x6uYqmx31kE_0000002.wav Elisabeth_Moss/m-uILToQ9ss_0000009.wav\r\n"
     ]
    }
   ],
   "source": [
    "!head data/voxceleb1/voxceleb1_test.txt"
   ]
  },
  {
   "cell_type": "code",
   "execution_count": 143,
   "metadata": {
    "collapsed": true
   },
   "outputs": [],
   "source": [
    "to_segment = lambda x: x[:-4]\n",
    "trials = read_table('data/voxceleb1/voxceleb1_test.txt', delim_whitespace=True,\n",
    "                    names=['trial', 'enrolment', 'test'],\n",
    "                    converters={'enrolment': to_segment, 'test': to_segment})"
   ]
  },
  {
   "cell_type": "markdown",
   "metadata": {},
   "source": [
    "## Dump to voxceleb1.verification.test.csv"
   ]
  },
  {
   "cell_type": "code",
   "execution_count": 144,
   "metadata": {
    "collapsed": true
   },
   "outputs": [],
   "source": [
    "with open('../VoxCeleb/data/voxceleb1.verification.test.csv', 'w') as fp:\n",
    "    trials.to_csv(fp, index_label='segment', index=False)"
   ]
  },
  {
   "cell_type": "code",
   "execution_count": 145,
   "metadata": {},
   "outputs": [
    {
     "name": "stdout",
     "output_type": "stream",
     "text": [
      "trial,enrolment,test\r\n",
      "1,Eartha_Kitt/x6uYqmx31kE_0000001,Eartha_Kitt/8jEAjG6SegY_0000008\r\n",
      "0,Eartha_Kitt/x6uYqmx31kE_0000001,Ernest_Borgnine/ize_eiCFEg0_0000003\r\n",
      "1,Eartha_Kitt/x6uYqmx31kE_0000001,Eartha_Kitt/GWXujl-xAVM_0000017\r\n",
      "0,Eartha_Kitt/x6uYqmx31kE_0000001,Eddie_Izzard/0OCW1HUxZyg_0000001\r\n",
      "1,Eartha_Kitt/x6uYqmx31kE_0000001,Eartha_Kitt/8jEAjG6SegY_0000022\r\n",
      "0,Eartha_Kitt/x6uYqmx31kE_0000001,Eli_Wallach/Uzxv7Axh3Z8_0000001\r\n",
      "1,Eartha_Kitt/x6uYqmx31kE_0000001,Eartha_Kitt/GWXujl-xAVM_0000033\r\n",
      "0,Eartha_Kitt/x6uYqmx31kE_0000001,Eli_Wallach/7yx9A0yzLYk_0000029\r\n",
      "1,Eartha_Kitt/x6uYqmx31kE_0000002,Eartha_Kitt/5r0dWxy17C8_0000026\r\n"
     ]
    }
   ],
   "source": [
    "!head ../VoxCeleb/data/voxceleb1.verification.test.csv"
   ]
  }
 ],
 "metadata": {
  "kernelspec": {
   "display_name": "Python 3",
   "language": "python",
   "name": "python3"
  },
  "language_info": {
   "codemirror_mode": {
    "name": "ipython",
    "version": 3
   },
   "file_extension": ".py",
   "mimetype": "text/x-python",
   "name": "python",
   "nbconvert_exporter": "python",
   "pygments_lexer": "ipython3",
   "version": "3.5.3"
  }
 },
 "nbformat": 4,
 "nbformat_minor": 2
}
